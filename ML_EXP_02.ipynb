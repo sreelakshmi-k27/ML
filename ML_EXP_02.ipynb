{
  "nbformat": 4,
  "nbformat_minor": 0,
  "metadata": {
    "colab": {
      "provenance": []
    },
    "kernelspec": {
      "name": "python3",
      "display_name": "Python 3"
    },
    "language_info": {
      "name": "python"
    }
  },
  "cells": [
    {
      "cell_type": "code",
      "execution_count": 1,
      "metadata": {
        "id": "68ex0pSgTrxC"
      },
      "outputs": [],
      "source": [
        "import pandas as pd\n",
        "df=pd.read_csv(\"FuelConsumption (2).csv\")"
      ]
    },
    {
      "cell_type": "code",
      "source": [
        "print(df.head)"
      ],
      "metadata": {
        "colab": {
          "base_uri": "https://localhost:8080/"
        },
        "id": "KsytMu1FU6n8",
        "outputId": "b728ca38-75b2-4ce7-f9f2-b242ffa3beb2"
      },
      "execution_count": 2,
      "outputs": [
        {
          "output_type": "stream",
          "name": "stdout",
          "text": [
            "<bound method NDFrame.head of       MODELYEAR   MAKE       MODEL    VEHICLECLASS  ENGINESIZE  CYLINDERS  \\\n",
            "0          2014  ACURA         ILX         COMPACT         2.0          4   \n",
            "1          2014  ACURA         ILX         COMPACT         2.4          4   \n",
            "2          2014  ACURA  ILX HYBRID         COMPACT         1.5          4   \n",
            "3          2014  ACURA     MDX 4WD     SUV - SMALL         3.5          6   \n",
            "4          2014  ACURA     RDX AWD     SUV - SMALL         3.5          6   \n",
            "...         ...    ...         ...             ...         ...        ...   \n",
            "1062       2014  VOLVO    XC60 AWD     SUV - SMALL         3.0          6   \n",
            "1063       2014  VOLVO    XC60 AWD     SUV - SMALL         3.2          6   \n",
            "1064       2014  VOLVO    XC70 AWD     SUV - SMALL         3.0          6   \n",
            "1065       2014  VOLVO    XC70 AWD     SUV - SMALL         3.2          6   \n",
            "1066       2014  VOLVO    XC90 AWD  SUV - STANDARD         3.2          6   \n",
            "\n",
            "     TRANSMISSION FUELTYPE  FUELCONSUMPTION_CITY  FUELCONSUMPTION_HWY  \\\n",
            "0             AS5        Z                   9.9                  6.7   \n",
            "1              M6        Z                  11.2                  7.7   \n",
            "2             AV7        Z                   6.0                  5.8   \n",
            "3             AS6        Z                  12.7                  9.1   \n",
            "4             AS6        Z                  12.1                  8.7   \n",
            "...           ...      ...                   ...                  ...   \n",
            "1062          AS6        X                  13.4                  9.8   \n",
            "1063          AS6        X                  13.2                  9.5   \n",
            "1064          AS6        X                  13.4                  9.8   \n",
            "1065          AS6        X                  12.9                  9.3   \n",
            "1066          AS6        X                  14.9                 10.2   \n",
            "\n",
            "      FUELCONSUMPTION_COMB  FUELCONSUMPTION_COMB_MPG  CO2EMISSIONS  \n",
            "0                      8.5                        33           196  \n",
            "1                      9.6                        29           221  \n",
            "2                      5.9                        48           136  \n",
            "3                     11.1                        25           255  \n",
            "4                     10.6                        27           244  \n",
            "...                    ...                       ...           ...  \n",
            "1062                  11.8                        24           271  \n",
            "1063                  11.5                        25           264  \n",
            "1064                  11.8                        24           271  \n",
            "1065                  11.3                        25           260  \n",
            "1066                  12.8                        22           294  \n",
            "\n",
            "[1067 rows x 13 columns]>\n"
          ]
        }
      ]
    },
    {
      "cell_type": "code",
      "source": [
        "print(df.tail())"
      ],
      "metadata": {
        "colab": {
          "base_uri": "https://localhost:8080/"
        },
        "id": "pI8lfF8aU9Pa",
        "outputId": "06d4cc24-2313-4295-f699-fa37f6bf3c1c"
      },
      "execution_count": 3,
      "outputs": [
        {
          "output_type": "stream",
          "name": "stdout",
          "text": [
            "      MODELYEAR   MAKE     MODEL    VEHICLECLASS  ENGINESIZE  CYLINDERS  \\\n",
            "1062       2014  VOLVO  XC60 AWD     SUV - SMALL         3.0          6   \n",
            "1063       2014  VOLVO  XC60 AWD     SUV - SMALL         3.2          6   \n",
            "1064       2014  VOLVO  XC70 AWD     SUV - SMALL         3.0          6   \n",
            "1065       2014  VOLVO  XC70 AWD     SUV - SMALL         3.2          6   \n",
            "1066       2014  VOLVO  XC90 AWD  SUV - STANDARD         3.2          6   \n",
            "\n",
            "     TRANSMISSION FUELTYPE  FUELCONSUMPTION_CITY  FUELCONSUMPTION_HWY  \\\n",
            "1062          AS6        X                  13.4                  9.8   \n",
            "1063          AS6        X                  13.2                  9.5   \n",
            "1064          AS6        X                  13.4                  9.8   \n",
            "1065          AS6        X                  12.9                  9.3   \n",
            "1066          AS6        X                  14.9                 10.2   \n",
            "\n",
            "      FUELCONSUMPTION_COMB  FUELCONSUMPTION_COMB_MPG  CO2EMISSIONS  \n",
            "1062                  11.8                        24           271  \n",
            "1063                  11.5                        25           264  \n",
            "1064                  11.8                        24           271  \n",
            "1065                  11.3                        25           260  \n",
            "1066                  12.8                        22           294  \n"
          ]
        }
      ]
    },
    {
      "cell_type": "code",
      "source": [
        "print(df.columns.tolist())"
      ],
      "metadata": {
        "colab": {
          "base_uri": "https://localhost:8080/"
        },
        "id": "xyBM-PQGVAZB",
        "outputId": "7356c929-f671-4750-dc9f-cfbd83563e95"
      },
      "execution_count": 7,
      "outputs": [
        {
          "output_type": "stream",
          "name": "stdout",
          "text": [
            "['MODELYEAR', 'MAKE', 'MODEL', 'VEHICLECLASS', 'ENGINESIZE', 'CYLINDERS', 'TRANSMISSION', 'FUELTYPE', 'FUELCONSUMPTION_CITY', 'FUELCONSUMPTION_HWY', 'FUELCONSUMPTION_COMB', 'FUELCONSUMPTION_COMB_MPG', 'CO2EMISSIONS']\n"
          ]
        }
      ]
    },
    {
      "cell_type": "code",
      "source": [
        "print(df.dtypes)"
      ],
      "metadata": {
        "colab": {
          "base_uri": "https://localhost:8080/"
        },
        "id": "u5wjPH2_VFMx",
        "outputId": "e1bffb94-7edf-42db-a6b6-390b38d7cf6d"
      },
      "execution_count": 8,
      "outputs": [
        {
          "output_type": "stream",
          "name": "stdout",
          "text": [
            "MODELYEAR                     int64\n",
            "MAKE                         object\n",
            "MODEL                        object\n",
            "VEHICLECLASS                 object\n",
            "ENGINESIZE                  float64\n",
            "CYLINDERS                     int64\n",
            "TRANSMISSION                 object\n",
            "FUELTYPE                     object\n",
            "FUELCONSUMPTION_CITY        float64\n",
            "FUELCONSUMPTION_HWY         float64\n",
            "FUELCONSUMPTION_COMB        float64\n",
            "FUELCONSUMPTION_COMB_MPG      int64\n",
            "CO2EMISSIONS                  int64\n",
            "dtype: object\n"
          ]
        }
      ]
    },
    {
      "cell_type": "code",
      "source": [
        "print(df.info())"
      ],
      "metadata": {
        "colab": {
          "base_uri": "https://localhost:8080/"
        },
        "id": "ehJq8sGJVnqp",
        "outputId": "11a4b92e-6093-4946-e7bc-5ea1e8b4c399"
      },
      "execution_count": 9,
      "outputs": [
        {
          "output_type": "stream",
          "name": "stdout",
          "text": [
            "<class 'pandas.core.frame.DataFrame'>\n",
            "RangeIndex: 1067 entries, 0 to 1066\n",
            "Data columns (total 13 columns):\n",
            " #   Column                    Non-Null Count  Dtype  \n",
            "---  ------                    --------------  -----  \n",
            " 0   MODELYEAR                 1067 non-null   int64  \n",
            " 1   MAKE                      1067 non-null   object \n",
            " 2   MODEL                     1067 non-null   object \n",
            " 3   VEHICLECLASS              1067 non-null   object \n",
            " 4   ENGINESIZE                1067 non-null   float64\n",
            " 5   CYLINDERS                 1067 non-null   int64  \n",
            " 6   TRANSMISSION              1067 non-null   object \n",
            " 7   FUELTYPE                  1067 non-null   object \n",
            " 8   FUELCONSUMPTION_CITY      1067 non-null   float64\n",
            " 9   FUELCONSUMPTION_HWY       1067 non-null   float64\n",
            " 10  FUELCONSUMPTION_COMB      1067 non-null   float64\n",
            " 11  FUELCONSUMPTION_COMB_MPG  1067 non-null   int64  \n",
            " 12  CO2EMISSIONS              1067 non-null   int64  \n",
            "dtypes: float64(4), int64(4), object(5)\n",
            "memory usage: 108.5+ KB\n",
            "None\n"
          ]
        }
      ]
    },
    {
      "cell_type": "code",
      "source": [
        "print(df.isnull().sum())"
      ],
      "metadata": {
        "colab": {
          "base_uri": "https://localhost:8080/"
        },
        "id": "YnXUilhZVqo5",
        "outputId": "b7fc6cc7-aaa1-46b2-c57f-88045809a017"
      },
      "execution_count": 10,
      "outputs": [
        {
          "output_type": "stream",
          "name": "stdout",
          "text": [
            "MODELYEAR                   0\n",
            "MAKE                        0\n",
            "MODEL                       0\n",
            "VEHICLECLASS                0\n",
            "ENGINESIZE                  0\n",
            "CYLINDERS                   0\n",
            "TRANSMISSION                0\n",
            "FUELTYPE                    0\n",
            "FUELCONSUMPTION_CITY        0\n",
            "FUELCONSUMPTION_HWY         0\n",
            "FUELCONSUMPTION_COMB        0\n",
            "FUELCONSUMPTION_COMB_MPG    0\n",
            "CO2EMISSIONS                0\n",
            "dtype: int64\n"
          ]
        }
      ]
    },
    {
      "cell_type": "code",
      "source": [],
      "metadata": {
        "id": "8MRtw3W5V07p"
      },
      "execution_count": null,
      "outputs": []
    }
  ]
}