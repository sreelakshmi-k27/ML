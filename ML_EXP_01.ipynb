{
  "nbformat": 4,
  "nbformat_minor": 0,
  "metadata": {
    "colab": {
      "provenance": []
    },
    "kernelspec": {
      "name": "python3",
      "display_name": "Python 3"
    },
    "language_info": {
      "name": "python"
    }
  },
  "cells": [
    {
      "cell_type": "markdown",
      "source": [
        "Addition of two numbers"
      ],
      "metadata": {
        "id": "nFe9_mMJLcLq"
      }
    },
    {
      "cell_type": "code",
      "execution_count": 1,
      "metadata": {
        "colab": {
          "base_uri": "https://localhost:8080/"
        },
        "id": "3MZlMMzIJzP6",
        "outputId": "0ea6b222-964e-4902-a4d7-9a6ef47022d1"
      },
      "outputs": [
        {
          "output_type": "stream",
          "name": "stdout",
          "text": [
            "15\n"
          ]
        }
      ],
      "source": [
        "x = 5\n",
        "y = 10\n",
        "print(x + y)"
      ]
    },
    {
      "cell_type": "markdown",
      "source": [
        "To check if a number is odd or even"
      ],
      "metadata": {
        "id": "a1hcd5SrLiKz"
      }
    },
    {
      "cell_type": "code",
      "source": [
        "num = int(input(\"Enter a Number:\"))\n",
        "if num % 2 == 0:\n",
        "  print(\"Given number is Even\")\n",
        "else:\n",
        "  print(\"Given number is Odd\")"
      ],
      "metadata": {
        "colab": {
          "base_uri": "https://localhost:8080/"
        },
        "id": "7merJuUKJ9zy",
        "outputId": "0f30f10e-084c-44af-9488-a68fd41b98ab"
      },
      "execution_count": 3,
      "outputs": [
        {
          "output_type": "stream",
          "name": "stdout",
          "text": [
            "Enter a Number:7\n",
            "Given number is Odd\n"
          ]
        }
      ]
    },
    {
      "cell_type": "markdown",
      "source": [
        "To check if a number is prime or not"
      ],
      "metadata": {
        "id": "JnN9SuLgLnbT"
      }
    },
    {
      "cell_type": "code",
      "source": [
        "import math\n",
        "n=int(input(\"enter a number\"))\n",
        "if n <= 1:\n",
        "    print(False)\n",
        "else:\n",
        "    is_prime = True\n",
        "    for i in range(2, int(math.sqrt(n)) + 1):\n",
        "        if n % i == 0:\n",
        "            is_prime = False\n",
        "            break\n",
        "    print(is_prime)"
      ],
      "metadata": {
        "colab": {
          "base_uri": "https://localhost:8080/"
        },
        "id": "kut02RriKGNw",
        "outputId": "d7d47d7f-4b21-482b-a5de-7a65e3329f2c"
      },
      "execution_count": 6,
      "outputs": [
        {
          "output_type": "stream",
          "name": "stdout",
          "text": [
            "enter a number4\n",
            "False\n"
          ]
        }
      ]
    },
    {
      "cell_type": "markdown",
      "source": [
        "To find largest of 4 numbers"
      ],
      "metadata": {
        "id": "LPEHhnj3LqmK"
      }
    },
    {
      "cell_type": "code",
      "source": [
        "a = int(input(\"enter a number\"))\n",
        "b = int(input(\"enter a number\"))\n",
        "c = int(input(\"enter a number\"))\n",
        "d = int(input(\"enter a number\"))\n",
        "l = [a, b, c, d]\n",
        "print(max(l))"
      ],
      "metadata": {
        "colab": {
          "base_uri": "https://localhost:8080/"
        },
        "id": "0J8Nxy9cKR64",
        "outputId": "8ab88d3c-9911-4d2f-a5dd-8f8ef6887f5f"
      },
      "execution_count": 8,
      "outputs": [
        {
          "output_type": "stream",
          "name": "stdout",
          "text": [
            "enter a number3\n",
            "enter a number5\n",
            "enter a number7\n",
            "enter a number3\n",
            "7\n"
          ]
        }
      ]
    },
    {
      "cell_type": "markdown",
      "source": [],
      "metadata": {
        "id": "SgRb_q3tLu0U"
      }
    },
    {
      "cell_type": "markdown",
      "source": [
        "Factorial of a number"
      ],
      "metadata": {
        "id": "HQK5DL_1MKGW"
      }
    },
    {
      "cell_type": "code",
      "source": [
        "n=int(input(\"enter a number\"))\n",
        "fact = 1\n",
        "for i in range(1, n + 1):\n",
        "    fact *= i\n",
        "print(fact)"
      ],
      "metadata": {
        "colab": {
          "base_uri": "https://localhost:8080/"
        },
        "id": "HU8JdKaKKx_C",
        "outputId": "38de0206-c6f5-4701-cdad-ad033f2e1fd9"
      },
      "execution_count": 10,
      "outputs": [
        {
          "output_type": "stream",
          "name": "stdout",
          "text": [
            "enter a number4\n",
            "24\n"
          ]
        }
      ]
    },
    {
      "cell_type": "markdown",
      "source": [
        "Reverse a number"
      ],
      "metadata": {
        "id": "PtTgZLfYMOnY"
      }
    },
    {
      "cell_type": "code",
      "source": [
        "a=int(input(\"enter a number\"))\n",
        "b=str(a)\n",
        "c=b[::-1]\n",
        "print(int(c))"
      ],
      "metadata": {
        "colab": {
          "base_uri": "https://localhost:8080/"
        },
        "id": "k4XyCTHALTPy",
        "outputId": "0b297f02-30ad-4e3f-ab14-3e52bce0065f"
      },
      "execution_count": 15,
      "outputs": [
        {
          "output_type": "stream",
          "name": "stdout",
          "text": [
            "enter a number456\n",
            "654\n"
          ]
        }
      ]
    },
    {
      "cell_type": "markdown",
      "source": [
        "Palindrome or not Palindrome"
      ],
      "metadata": {
        "id": "HFAP2Gp8QN6l"
      }
    },
    {
      "cell_type": "code",
      "source": [
        "a=input(\"enter a string \")\n",
        "b=a[::-1]\n",
        "if b==a:\n",
        "  print(\"Its a palindrome\")\n",
        "else:\n",
        "  print(\"Its not a palindrome\")"
      ],
      "metadata": {
        "colab": {
          "base_uri": "https://localhost:8080/"
        },
        "id": "y24bfOgSMVEp",
        "outputId": "979926f7-839e-436d-fcfe-e52f5e198655"
      },
      "execution_count": 19,
      "outputs": [
        {
          "output_type": "stream",
          "name": "stdout",
          "text": [
            "enter a string oyoyoyo\n",
            "Its a palindrome\n"
          ]
        }
      ]
    },
    {
      "cell_type": "markdown",
      "source": [
        "sum of digit of number"
      ],
      "metadata": {
        "id": "349pnCfKQRc8"
      }
    },
    {
      "cell_type": "code",
      "source": [
        "a=int(input(\"enter a number\"))\n",
        "q=0\n",
        "b=str(a)\n",
        "for i in range(len(b)):\n",
        "  c=0\n",
        "  c=a%10\n",
        "  a=a//10\n",
        "  q+=c\n",
        "print(q)"
      ],
      "metadata": {
        "colab": {
          "base_uri": "https://localhost:8080/"
        },
        "id": "OyBqGFSfOOZ7",
        "outputId": "74e11858-4728-40a9-8c13-715d7feb5c75"
      },
      "execution_count": 22,
      "outputs": [
        {
          "output_type": "stream",
          "name": "stdout",
          "text": [
            "enter a number7532\n",
            "17\n"
          ]
        }
      ]
    },
    {
      "cell_type": "markdown",
      "source": [
        "multiplication table"
      ],
      "metadata": {
        "id": "msXLoQgXQUFT"
      }
    },
    {
      "cell_type": "code",
      "source": [
        "a=int(input(\"enter table value\"))\n",
        "b=int(input(\"enter number of multiple\"))\n",
        "for i in range(1,b+1):\n",
        "  print(a,\"*\",i,\"=\",a*i)"
      ],
      "metadata": {
        "colab": {
          "base_uri": "https://localhost:8080/"
        },
        "id": "Hugx_U_TOgpS",
        "outputId": "de9525fc-e590-4842-bd7f-83bd8c99851b"
      },
      "execution_count": 24,
      "outputs": [
        {
          "output_type": "stream",
          "name": "stdout",
          "text": [
            "enter table value44\n",
            "enter number of multiple10\n",
            "44 * 1 = 44\n",
            "44 * 2 = 88\n",
            "44 * 3 = 132\n",
            "44 * 4 = 176\n",
            "44 * 5 = 220\n",
            "44 * 6 = 264\n",
            "44 * 7 = 308\n",
            "44 * 8 = 352\n",
            "44 * 9 = 396\n",
            "44 * 10 = 440\n"
          ]
        }
      ]
    },
    {
      "cell_type": "markdown",
      "source": [
        "simple calculator"
      ],
      "metadata": {
        "id": "eT9Rr--jQWjz"
      }
    },
    {
      "cell_type": "code",
      "source": [
        "a = int(input(\"enter a number\"))\n",
        "b = int(input(\"enter a number\"))\n",
        "d = input(\"enter a symbol\")\n",
        "match(d):\n",
        "  case\"+\":\n",
        "    print(a+b)\n",
        "  case\"-\":\n",
        "    print(a-b)\n",
        "  case\"*\":\n",
        "    print(a*b)\n",
        "  case\"/\":\n",
        "    print(a/b)"
      ],
      "metadata": {
        "colab": {
          "base_uri": "https://localhost:8080/"
        },
        "id": "qwVFA99iPWuJ",
        "outputId": "475e0f31-4be6-41c2-f25e-764833ae69bf"
      },
      "execution_count": 35,
      "outputs": [
        {
          "output_type": "stream",
          "name": "stdout",
          "text": [
            "enter a number1\n",
            "enter a number5\n",
            "enter a symbol/\n",
            "0.2\n"
          ]
        }
      ]
    },
    {
      "cell_type": "markdown",
      "source": [
        "print pattern\n",
        "*\n",
        "**\n",
        "***\n",
        "****"
      ],
      "metadata": {
        "id": "TW2fKUzcSrNT"
      }
    },
    {
      "cell_type": "code",
      "source": [
        "for i in range(5):\n",
        "  print(i*\"*\")"
      ],
      "metadata": {
        "colab": {
          "base_uri": "https://localhost:8080/"
        },
        "id": "bltGwm-oRP3t",
        "outputId": "fa510472-3253-4137-940f-21ba7c840972"
      },
      "execution_count": 36,
      "outputs": [
        {
          "output_type": "stream",
          "name": "stdout",
          "text": [
            "\n",
            "*\n",
            "**\n",
            "***\n",
            "****\n"
          ]
        }
      ]
    },
    {
      "cell_type": "code",
      "source": [],
      "metadata": {
        "id": "-2H2yVC0S1Xr"
      },
      "execution_count": null,
      "outputs": []
    }
  ]
}