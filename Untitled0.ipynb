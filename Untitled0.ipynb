{
  "nbformat": 4,
  "nbformat_minor": 0,
  "metadata": {
    "colab": {
      "provenance": []
    },
    "kernelspec": {
      "name": "python3",
      "display_name": "Python 3"
    },
    "language_info": {
      "name": "python"
    }
  },
  "cells": [
    {
      "cell_type": "code",
      "execution_count": 4,
      "metadata": {
        "id": "Zn6kuiNMX9F-"
      },
      "outputs": [],
      "source": [
        "import pandas as pd\n",
        "from sklearn.cluster import KMeans\n",
        "from sklearn.datasets import load_iris\n",
        "from sklearn.metrics import confusion_matrix,accuracy_score\n"
      ]
    },
    {
      "cell_type": "code",
      "source": [
        "iris=load_iris()\n",
        "x=iris.data\n",
        "y=iris.target"
      ],
      "metadata": {
        "id": "hYYSHQHmYmrl"
      },
      "execution_count": 5,
      "outputs": []
    },
    {
      "cell_type": "code",
      "source": [
        "kmeans=KMeans(n_clusters=3,random_state=42)\n",
        "y_kmeans=kmeans.fit_predict(x)\n"
      ],
      "metadata": {
        "id": "0jKSFQ7mYyZx"
      },
      "execution_count": 6,
      "outputs": []
    },
    {
      "cell_type": "code",
      "source": [
        "df=pd.DataFrame(x,columns=iris.feature_names)"
      ],
      "metadata": {
        "id": "m_EeUcScajNz"
      },
      "execution_count": 10,
      "outputs": []
    },
    {
      "cell_type": "code",
      "source": [
        "\n",
        "df['Actual']=y\n",
        "df['Cluster']=y_kmeans\n"
      ],
      "metadata": {
        "id": "qHryn67TZEWc"
      },
      "execution_count": 11,
      "outputs": []
    },
    {
      "cell_type": "code",
      "source": [
        "\n",
        "print(\"Cluster Centers:\\n\",kmeans.cluster_centers_)\n",
        "print(\"\\nSample clustered data:\\n\",df.head())\n"
      ],
      "metadata": {
        "colab": {
          "base_uri": "https://localhost:8080/"
        },
        "id": "azlpwMo0ZyxM",
        "outputId": "eec0b9eb-c331-476e-f225-b97a26fc365e"
      },
      "execution_count": 14,
      "outputs": [
        {
          "output_type": "stream",
          "name": "stdout",
          "text": [
            "Cluster Centers:\n",
            " [[6.85384615 3.07692308 5.71538462 2.05384615]\n",
            " [5.006      3.428      1.462      0.246     ]\n",
            " [5.88360656 2.74098361 4.38852459 1.43442623]]\n",
            "\n",
            "Sample clustered data:\n",
            "    sepal length (cm)  sepal width (cm)  petal length (cm)  petal width (cm)  \\\n",
            "0                5.1               3.5                1.4               0.2   \n",
            "1                4.9               3.0                1.4               0.2   \n",
            "2                4.7               3.2                1.3               0.2   \n",
            "3                4.6               3.1                1.5               0.2   \n",
            "4                5.0               3.6                1.4               0.2   \n",
            "\n",
            "   Actual  Cluster  \n",
            "0       0        1  \n",
            "1       0        1  \n",
            "2       0        1  \n",
            "3       0        1  \n",
            "4       0        1  \n"
          ]
        }
      ]
    },
    {
      "cell_type": "code",
      "source": [
        "cm=confusion_matrix(y,y_kmeans)\n",
        "print(\"Confusion Matrix:\\n\",cm)"
      ],
      "metadata": {
        "colab": {
          "base_uri": "https://localhost:8080/"
        },
        "id": "GfpgmzyiaHM0",
        "outputId": "f5e91270-b090-4ff5-cbb1-fcedce6a8531"
      },
      "execution_count": 15,
      "outputs": [
        {
          "output_type": "stream",
          "name": "stdout",
          "text": [
            "Confusion Matrix:\n",
            " [[ 0 50  0]\n",
            " [ 3  0 47]\n",
            " [36  0 14]]\n"
          ]
        }
      ]
    }
  ]
}